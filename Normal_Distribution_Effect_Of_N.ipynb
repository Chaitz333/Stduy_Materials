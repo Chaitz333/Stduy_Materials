{
  "nbformat": 4,
  "nbformat_minor": 0,
  "metadata": {
    "colab": {
      "name": "Normal_Distribution_Effect_Of_N.ipynb",
      "provenance": []
    },
    "kernelspec": {
      "name": "python3",
      "display_name": "Python 3"
    }
  },
  "cells": [
    {
      "cell_type": "code",
      "metadata": {
        "id": "dahN_I8OHs_A",
        "colab_type": "code",
        "colab": {}
      },
      "source": [
        "import matplotlib.pyplot as plt\n",
        "from sklearn import cluster, datasets, mixture\n",
        "import numpy as np\n",
        "from scipy.stats import multivariate_normal"
      ],
      "execution_count": 1,
      "outputs": []
    },
    {
      "cell_type": "code",
      "metadata": {
        "id": "meTIF0aAHcdp",
        "colab_type": "code",
        "colab": {}
      },
      "source": [
        "n_samples = 1000\n",
        "mu1, sigma1 = 100, 5 # mean and variance\n",
        "population = np.random.normal(mu1, np.sqrt(sigma1), n_samples)\n"
      ],
      "execution_count": 3,
      "outputs": []
    },
    {
      "cell_type": "code",
      "metadata": {
        "id": "cPZKjwDvJZL5",
        "colab_type": "code",
        "colab": {}
      },
      "source": [
        "def sampler(sample_size,number_of_samples):\n",
        "  sample_distribution = []\n",
        "  for i in range(sample_size):\n",
        "    sample_distribution.append(np.mean(np.random.choice(population,size = number_of_samples, replace = False)))\n",
        "  return sample_distribution\n"
      ],
      "execution_count": 9,
      "outputs": []
    },
    {
      "cell_type": "code",
      "metadata": {
        "id": "-KTgqbe9J7Lr",
        "colab_type": "code",
        "colab": {
          "base_uri": "https://localhost:8080/",
          "height": 265
        },
        "outputId": "51e28d14-ff6c-4d1c-f6f4-f3235b6ccf81"
      },
      "source": [
        "\n",
        "sample_distribution = sampler(sample_size=50,number_of_samples=50)\n",
        "plt.hist(sample_distribution)\n",
        "plt.show()"
      ],
      "execution_count": 16,
      "outputs": [
        {
          "output_type": "display_data",
          "data": {
            "image/png": "[encoded data removed]",
            "text/plain": [
              "<Figure size 432x288 with 1 Axes>"
            ]
          },
          "metadata": {
            "tags": [],
            "needs_background": "light"
          }
        }
      ]
    },
    {
      "cell_type": "code",
      "metadata": {
        "id": "x2bFvI35J-Aa",
        "colab_type": "code",
        "colab": {
          "base_uri": "https://localhost:8080/",
          "height": 265
        },
        "outputId": "9abae671-bd17-4d37-c202-7a244a821ffd"
      },
      "source": [
        "sample_distribution = sampler(sample_size=75,number_of_samples=50)\n",
        "plt.hist(sample_distribution)\n",
        "plt.show()"
      ],
      "execution_count": 17,
      "outputs": [
        {
          "output_type": "display_data",
          "data": {
            "image/png": "[encoded data removed]",
            "text/plain": [
              "<Figure size 432x288 with 1 Axes>"
            ]
          },
          "metadata": {
            "tags": [],
            "needs_background": "light"
          }
        }
      ]
    },
    {
      "cell_type": "code",
      "metadata": {
        "id": "3bRtAUXMKC9J",
        "colab_type": "code",
        "colab": {
          "base_uri": "https://localhost:8080/",
          "height": 265
        },
        "outputId": "44240eed-6298-4693-c3e4-c106ddbc8707"
      },
      "source": [
        "sample_distribution = sampler(sample_size=100,number_of_samples=100)\n",
        "plt.hist(sample_distribution)\n",
        "plt.show()"
      ],
      "execution_count": 18,
      "outputs": [
        {
          "output_type": "display_data",
          "data": {
            "image/png": "[encoded data removed]",
            "text/plain": [
              "<Figure size 432x288 with 1 Axes>"
            ]
          },
          "metadata": {
            "tags": [],
            "needs_background": "light"
          }
        }
      ]
    },
    {
      "cell_type": "code",
      "metadata": {
        "id": "nxTQD1jeH539",
        "colab_type": "code",
        "colab": {
          "base_uri": "https://localhost:8080/",
          "height": 268
        },
        "outputId": "5d63d3d2-adb4-432e-a78b-0e0bc1ca7a8a"
      },
      "source": [
        "\n",
        "sample_distribution = sampler(sample_size=500,number_of_samples=100)\n",
        "plt.hist(sample_distribution)\n",
        "plt.show()"
      ],
      "execution_count": 19,
      "outputs": [
        {
          "output_type": "display_data",
          "data": {
            "image/png": "[encoded data removed]",
            "text/plain": [
              "<Figure size 432x288 with 1 Axes>"
            ]
          },
          "metadata": {
            "tags": [],
            "needs_background": "light"
          }
        }
      ]
    },
    {
      "cell_type": "code",
      "metadata": {
        "id": "Qw40QIX2J14b",
        "colab_type": "code",
        "colab": {
          "base_uri": "https://localhost:8080/",
          "height": 265
        },
        "outputId": "88053ad9-a30c-4c03-e78d-38ea0e235bf8"
      },
      "source": [
        "sample_distribution = sampler(sample_size=600,number_of_samples=500)\n",
        "plt.hist(sample_distribution)\n",
        "plt.show()"
      ],
      "execution_count": 20,
      "outputs": [
        {
          "output_type": "display_data",
          "data": {
            "image/png": "[encoded data removed]",
            "text/plain": [
              "<Figure size 432x288 with 1 Axes>"
            ]
          },
          "metadata": {
            "tags": [],
            "needs_background": "light"
          }
        }
      ]
    },
    {
      "cell_type": "code",
      "metadata": {
        "id": "eFMsaYk7KNU2",
        "colab_type": "code",
        "colab": {
          "base_uri": "https://localhost:8080/",
          "height": 268
        },
        "outputId": "aded23f6-93cb-4d00-9d4b-74ed804bad3d"
      },
      "source": [
        "sample_distribution = sampler(sample_size=600,number_of_samples=800)\n",
        "plt.hist(sample_distribution)\n",
        "plt.show()"
      ],
      "execution_count": 21,
      "outputs": [
        {
          "output_type": "display_data",
          "data": {
            "image/png": "[encoded data removed]",
            "text/plain": [
              "<Figure size 432x288 with 1 Axes>"
            ]
          },
          "metadata": {
            "tags": [],
            "needs_background": "light"
          }
        }
      ]
    },
    {
      "cell_type": "code",
      "metadata": {
        "id": "vGcGp2_hKqOL",
        "colab_type": "code",
        "colab": {
          "base_uri": "https://localhost:8080/",
          "height": 265
        },
        "outputId": "f19cab78-4920-40f6-8248-dd2cf269cf64"
      },
      "source": [
        "sample_distribution = sampler(sample_size=600,number_of_samples=800)\n",
        "plt.hist(sample_distribution)\n",
        "plt.show()"
      ],
      "execution_count": 31,
      "outputs": [
        {
          "output_type": "display_data",
          "data": {
            "image/png": "[encoded data removed]",
            "text/plain": [
              "<Figure size 432x288 with 1 Axes>"
            ]
          },
          "metadata": {
            "tags": [],
            "needs_background": "light"
          }
        }
      ]
    },
    {
      "cell_type": "markdown",
      "metadata": {
        "id": "7hr5MjXhKbJx",
        "colab_type": "text"
      },
      "source": [
        "# We can see above that as the number of samples Increases, The sampling distribution tends towards the Normal Distribution. This follows CLT."
      ]
    },
    {
      "cell_type": "code",
      "metadata": {
        "id": "1WwoJdIVKlzO",
        "colab_type": "code",
        "colab": {}
      },
      "source": [
        ""
      ],
      "execution_count": null,
      "outputs": []
    }
  ]
}